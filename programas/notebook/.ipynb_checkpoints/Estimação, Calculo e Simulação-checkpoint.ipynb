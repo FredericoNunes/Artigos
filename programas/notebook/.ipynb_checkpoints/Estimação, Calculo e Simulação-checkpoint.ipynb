{
 "cells": [
  {
   "cell_type": "code",
   "execution_count": 1,
   "metadata": {},
   "outputs": [],
   "source": [
    "import os\n",
    "import pandas as pd\n",
    "import math\n",
    "import numpy as np\n",
    "from tabulate import tabulate\n",
    "diretorio = os.path.dirname(os.getcwd())\n",
    "local_arquivo = os.path.join(diretorio,\n",
    "                             'dados',\n",
    "                             'Dados.xls')\n",
    "\n",
    "#abrindo o arquivo em dataframe no pandas\n",
    "dataframe = pd.read_excel(local_arquivo)"
   ]
  },
  {
   "cell_type": "code",
   "execution_count": 2,
   "metadata": {},
   "outputs": [],
   "source": [
    "# Índice trimestral do dataframe\n",
    "dataframe.index = pd.date_range('1996-03', \n",
    "                               periods = len(dataframe.iloc[:, 1]),\n",
    "                               freq = 'Q')\n",
    "# Renomeando colunas:\n",
    "dataframe.columns = 'Data', 'GDP', 'Consumption', 'average EMBI', 'EOP EMBI', 'Exports', 'Imports'\n",
    "\n",
    "# Log das variáveis:\n",
    "dataframe['GDP'] = np.log(dataframe['GDP'])\n",
    "dataframe['Consumption'] = np.log(dataframe['Consumption'])\n",
    "dataframe['Exports'] = np.log(dataframe['Exports'])\n",
    "dataframe['Imports'] = np.log(dataframe['Imports'])"
   ]
  },
  {
   "cell_type": "code",
   "execution_count": 3,
   "metadata": {},
   "outputs": [],
   "source": [
    "# Dessasonalizar séries\n",
    "import statsmodels.tsa as sm\n",
    "local_x13_seassonal_file = os.path.join(diretorio,\n",
    "                                        'notebook',\n",
    "                                        'x13',\n",
    "                                        'x13as')"
   ]
  },
  {
   "cell_type": "code",
   "execution_count": 12,
   "metadata": {},
   "outputs": [
    {
     "ename": "X13NotFoundError",
     "evalue": "x12a and x13as not found on path. Give the path, put them on PATH, or set the X12PATH or X13PATH environmental variable.",
     "output_type": "error",
     "traceback": [
      "\u001b[1;31m---------------------------------------------------------------------------\u001b[0m",
      "\u001b[1;31mX13NotFoundError\u001b[0m                          Traceback (most recent call last)",
      "\u001b[1;32m<ipython-input-12-d2d3e253f383>\u001b[0m in \u001b[0;36m<module>\u001b[1;34m\u001b[0m\n\u001b[0;32m      1\u001b[0m \u001b[1;32mfrom\u001b[0m \u001b[0mstatsmodels\u001b[0m\u001b[1;33m.\u001b[0m\u001b[0mtsa\u001b[0m\u001b[1;33m.\u001b[0m\u001b[0mx13\u001b[0m \u001b[1;32mimport\u001b[0m \u001b[0mx13_arima_analysis\u001b[0m\u001b[1;33m\u001b[0m\u001b[1;33m\u001b[0m\u001b[0m\n\u001b[1;32m----> 2\u001b[1;33m \u001b[0mdataframe\u001b[0m\u001b[1;33m[\u001b[0m\u001b[1;34m'GDP'\u001b[0m\u001b[1;33m]\u001b[0m \u001b[1;33m=\u001b[0m \u001b[0mx13_arima_analysis\u001b[0m\u001b[1;33m(\u001b[0m\u001b[0mdataframe\u001b[0m\u001b[1;33m[\u001b[0m\u001b[1;34m'GDP'\u001b[0m\u001b[1;33m]\u001b[0m\u001b[1;33m)\u001b[0m\u001b[1;33m\u001b[0m\u001b[1;33m\u001b[0m\u001b[0m\n\u001b[0m",
      "\u001b[1;32m~\\anaconda3\\lib\\site-packages\\pandas\\util\\_decorators.py\u001b[0m in \u001b[0;36mwrapper\u001b[1;34m(*args, **kwargs)\u001b[0m\n\u001b[0;32m    212\u001b[0m                 \u001b[1;32melse\u001b[0m\u001b[1;33m:\u001b[0m\u001b[1;33m\u001b[0m\u001b[1;33m\u001b[0m\u001b[0m\n\u001b[0;32m    213\u001b[0m                     \u001b[0mkwargs\u001b[0m\u001b[1;33m[\u001b[0m\u001b[0mnew_arg_name\u001b[0m\u001b[1;33m]\u001b[0m \u001b[1;33m=\u001b[0m \u001b[0mnew_arg_value\u001b[0m\u001b[1;33m\u001b[0m\u001b[1;33m\u001b[0m\u001b[0m\n\u001b[1;32m--> 214\u001b[1;33m             \u001b[1;32mreturn\u001b[0m \u001b[0mfunc\u001b[0m\u001b[1;33m(\u001b[0m\u001b[1;33m*\u001b[0m\u001b[0margs\u001b[0m\u001b[1;33m,\u001b[0m \u001b[1;33m**\u001b[0m\u001b[0mkwargs\u001b[0m\u001b[1;33m)\u001b[0m\u001b[1;33m\u001b[0m\u001b[1;33m\u001b[0m\u001b[0m\n\u001b[0m\u001b[0;32m    215\u001b[0m \u001b[1;33m\u001b[0m\u001b[0m\n\u001b[0;32m    216\u001b[0m         \u001b[1;32mreturn\u001b[0m \u001b[0mcast\u001b[0m\u001b[1;33m(\u001b[0m\u001b[0mF\u001b[0m\u001b[1;33m,\u001b[0m \u001b[0mwrapper\u001b[0m\u001b[1;33m)\u001b[0m\u001b[1;33m\u001b[0m\u001b[1;33m\u001b[0m\u001b[0m\n",
      "\u001b[1;32m~\\anaconda3\\lib\\site-packages\\statsmodels\\tsa\\x13.py\u001b[0m in \u001b[0;36mx13_arima_analysis\u001b[1;34m(endog, maxorder, maxdiff, diff, exog, log, outlier, trading, forecast_periods, retspec, speconly, start, freq, print_stdout, x12path, prefer_x13)\u001b[0m\n\u001b[0;32m    412\u001b[0m     \u001b[0mback\u001b[0m \u001b[1;32min\u001b[0m\u001b[1;33m.\u001b[0m\u001b[1;33m\u001b[0m\u001b[1;33m\u001b[0m\u001b[0m\n\u001b[0;32m    413\u001b[0m     \"\"\"\n\u001b[1;32m--> 414\u001b[1;33m     \u001b[0mx12path\u001b[0m \u001b[1;33m=\u001b[0m \u001b[0m_check_x12\u001b[0m\u001b[1;33m(\u001b[0m\u001b[0mx12path\u001b[0m\u001b[1;33m)\u001b[0m\u001b[1;33m\u001b[0m\u001b[1;33m\u001b[0m\u001b[0m\n\u001b[0m\u001b[0;32m    415\u001b[0m \u001b[1;33m\u001b[0m\u001b[0m\n\u001b[0;32m    416\u001b[0m     \u001b[1;32mif\u001b[0m \u001b[1;32mnot\u001b[0m \u001b[0misinstance\u001b[0m\u001b[1;33m(\u001b[0m\u001b[0mendog\u001b[0m\u001b[1;33m,\u001b[0m \u001b[1;33m(\u001b[0m\u001b[0mpd\u001b[0m\u001b[1;33m.\u001b[0m\u001b[0mDataFrame\u001b[0m\u001b[1;33m,\u001b[0m \u001b[0mpd\u001b[0m\u001b[1;33m.\u001b[0m\u001b[0mSeries\u001b[0m\u001b[1;33m)\u001b[0m\u001b[1;33m)\u001b[0m\u001b[1;33m:\u001b[0m\u001b[1;33m\u001b[0m\u001b[1;33m\u001b[0m\u001b[0m\n",
      "\u001b[1;32m~\\anaconda3\\lib\\site-packages\\statsmodels\\tsa\\x13.py\u001b[0m in \u001b[0;36m_check_x12\u001b[1;34m(x12path)\u001b[0m\n\u001b[0;32m     85\u001b[0m     \u001b[0mx12path\u001b[0m \u001b[1;33m=\u001b[0m \u001b[0m_find_x12\u001b[0m\u001b[1;33m(\u001b[0m\u001b[0mx12path\u001b[0m\u001b[1;33m)\u001b[0m\u001b[1;33m\u001b[0m\u001b[1;33m\u001b[0m\u001b[0m\n\u001b[0;32m     86\u001b[0m     \u001b[1;32mif\u001b[0m \u001b[1;32mnot\u001b[0m \u001b[0mx12path\u001b[0m\u001b[1;33m:\u001b[0m\u001b[1;33m\u001b[0m\u001b[1;33m\u001b[0m\u001b[0m\n\u001b[1;32m---> 87\u001b[1;33m         raise X13NotFoundError(\"x12a and x13as not found on path. Give the \"\n\u001b[0m\u001b[0;32m     88\u001b[0m                                \u001b[1;34m\"path, put them on PATH, or set the \"\u001b[0m\u001b[1;33m\u001b[0m\u001b[1;33m\u001b[0m\u001b[0m\n\u001b[0;32m     89\u001b[0m                                \"X12PATH or X13PATH environmental variable.\")\n",
      "\u001b[1;31mX13NotFoundError\u001b[0m: x12a and x13as not found on path. Give the path, put them on PATH, or set the X12PATH or X13PATH environmental variable."
     ]
    }
   ],
   "source": [
    "from statsmodels.tsa.x13 import x13_arima_analysis\n",
    "dataframe['GDP'] = x13_arima_analysis(dataframe['GDP'])"
   ]
  },
  {
   "cell_type": "code",
   "execution_count": 7,
   "metadata": {},
   "outputs": [
    {
     "data": {
      "text/plain": [
       "'C:\\\\Users\\\\paulo\\\\Dropbox\\\\paper_FRED\\\\programas\\\\notebook\\\\x13\\\\x13as'"
      ]
     },
     "execution_count": 7,
     "metadata": {},
     "output_type": "execute_result"
    }
   ],
   "source": [
    "local_x13_seassonal_file"
   ]
  },
  {
   "cell_type": "code",
   "execution_count": null,
   "metadata": {},
   "outputs": [],
   "source": []
  }
 ],
 "metadata": {
  "kernelspec": {
   "display_name": "Python 3",
   "language": "python",
   "name": "python3"
  },
  "language_info": {
   "codemirror_mode": {
    "name": "ipython",
    "version": 3
   },
   "file_extension": ".py",
   "mimetype": "text/x-python",
   "name": "python",
   "nbconvert_exporter": "python",
   "pygments_lexer": "ipython3",
   "version": "3.7.6"
  }
 },
 "nbformat": 4,
 "nbformat_minor": 4
}
